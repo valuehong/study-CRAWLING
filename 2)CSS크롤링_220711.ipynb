{
 "cells": [
  {
   "cell_type": "markdown",
   "id": "1099ed12",
   "metadata": {},
   "source": [
    "## 1. CSS Selector data 추출\n",
    "> 1. name {폰트 크기, background size..}\n",
    "> 1. select_one() : 하나의 요소를 선택\n",
    "> 1. select() : 여러 개의 요소\n",
    "> 1. CSS Selector 사용하기 "
   ]
  },
  {
   "cell_type": "markdown",
   "id": "94f9ab64",
   "metadata": {},
   "source": [
    "## 2. CSS Selector 사용하기\n",
    "> 1. BeautifulSoup.select_one(selector): css selector 요소 하나를 추출\n",
    "> 1. BeautifulSoup.select(selector): css selector 요소 여러개를 list로 추출\n"
   ]
  },
  {
   "cell_type": "code",
   "execution_count": 2,
   "id": "3a60ddba",
   "metadata": {},
   "outputs": [],
   "source": [
    "from bs4 import BeautifulSoup"
   ]
  },
  {
   "cell_type": "code",
   "execution_count": 3,
   "id": "d51d5944",
   "metadata": {},
   "outputs": [
    {
     "name": "stdout",
     "output_type": "stream",
     "text": [
      "h1= 빅데이터 분석강좌\n"
     ]
    }
   ],
   "source": [
    "# 분석 대상 HTML문서\n",
    "html = \"\"\"\n",
    "<html><body>\n",
    "    <div id = \"LecList\">\n",
    "    <h1>데이터과학<h1>\n",
    "    </div>\n",
    "    <div id = \"lecture\">\n",
    "        <h1>빅데이터 분석강좌</h1>\n",
    "        <ul class = \"subject\">\n",
    "            <li>R언어 강좌</li>\n",
    "            <li>머신러닝을 위한 데이터 처리</li>\n",
    "            <li>파이썬으로 익히는 딥러닝이론</li>\n",
    "        </ul>\n",
    "    </div>\n",
    "</body></html>\n",
    "\"\"\"\n",
    "\n",
    "# html 분석하기\n",
    "soup = BeautifulSoup(html, \"html.parser\")\n",
    "\n",
    "# CSS 쿼리로 데이터 추출하기\n",
    "h1 = soup.select_one(\"div#lecture > h1\").string\n",
    "print(\"h1=\",h1)"
   ]
  },
  {
   "cell_type": "code",
   "execution_count": 6,
   "id": "65cb7b55",
   "metadata": {},
   "outputs": [
    {
     "name": "stdout",
     "output_type": "stream",
     "text": [
      "ul= None\n"
     ]
    }
   ],
   "source": [
    "ul = soup.select_one(\"div#lecture > ul\").string\n",
    "print(\"ul=\",ul)"
   ]
  },
  {
   "cell_type": "code",
   "execution_count": null,
   "id": "a25622e8",
   "metadata": {},
   "outputs": [],
   "source": []
  }
 ],
 "metadata": {
  "kernelspec": {
   "display_name": "Python 3 (ipykernel)",
   "language": "python",
   "name": "python3"
  },
  "language_info": {
   "codemirror_mode": {
    "name": "ipython",
    "version": 3
   },
   "file_extension": ".py",
   "mimetype": "text/x-python",
   "name": "python",
   "nbconvert_exporter": "python",
   "pygments_lexer": "ipython3",
   "version": "3.9.12"
  }
 },
 "nbformat": 4,
 "nbformat_minor": 5
}
